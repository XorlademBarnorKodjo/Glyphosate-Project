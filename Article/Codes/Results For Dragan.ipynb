{
 "cells": [
  {
   "cell_type": "code",
   "execution_count": 1,
   "metadata": {},
   "outputs": [],
   "source": [
    "import pandas as pd\n",
    "import numpy as np"
   ]
  },
  {
   "cell_type": "code",
   "execution_count": 2,
   "metadata": {},
   "outputs": [
    {
     "name": "stderr",
     "output_type": "stream",
     "text": [
      "/Users/kodjobarnor/opt/anaconda3/lib/python3.8/site-packages/pandas/core/series.py:992: SettingWithCopyWarning: \n",
      "A value is trying to be set on a copy of a slice from a DataFrame\n",
      "\n",
      "See the caveats in the documentation: https://pandas.pydata.org/pandas-docs/stable/user_guide/indexing.html#returning-a-view-versus-a-copy\n",
      "  self._where(~key, value, inplace=True)\n",
      "/Users/kodjobarnor/opt/anaconda3/lib/python3.8/site-packages/pandas/core/series.py:992: SettingWithCopyWarning: \n",
      "A value is trying to be set on a copy of a slice from a DataFrame\n",
      "\n",
      "See the caveats in the documentation: https://pandas.pydata.org/pandas-docs/stable/user_guide/indexing.html#returning-a-view-versus-a-copy\n",
      "  self._where(~key, value, inplace=True)\n"
     ]
    }
   ],
   "source": [
    "data = pd.read_excel(\"DAGs Data.xlsx\", index_col = [31, 38])\n",
    "data.rename(columns={key: str(key).replace(\"_\", \" \").title() for key in data}, inplace= True)\n",
    "data[\"General Outcome\"][data[\"Environmental Outcome\"]==1]=1\n",
    "data[\"General Outcome\"][data[\"Health Outcome\"]==1]=1\n",
    "keys = list(data.keys())"
   ]
  },
  {
   "cell_type": "code",
   "execution_count": 3,
   "metadata": {
    "scrolled": true
   },
   "outputs": [],
   "source": [
    "years = keys[-31:]\n",
    "countries = keys[-82:-31]\n",
    "data.rename(columns = {year:str(year) for year in years}, inplace = True)\n",
    "years = [str(year) for year in years]"
   ]
  },
  {
   "cell_type": "code",
   "execution_count": 4,
   "metadata": {},
   "outputs": [],
   "source": [
    "keys =[\"General Outcome\",\n",
    "       #'Num Citations',\n",
    "       \"Impact F Publishing Year\",\n",
    "      \"Private\",\n",
    "      \"Public\",\n",
    "       \"International\",\n",
    "       \"University\",\n",
    "      #'Private Affiliation',\n",
    "      #'Public Affiliation',\n",
    "      #'University Affiliation'\n",
    "      ]\n",
    "keys = keys #+ countries\n",
    "#keys = [\"General_outcome\", \"Year\", \"Fund_Source\", \"Loc_experiment\", \"Journal\"]\n",
    "max_cond_vars = len(keys) - 2\n",
    "data_reg = data[keys].dropna()\n",
    "data_reg[\"Impact F Publishing Year\"] = data_reg[\"Impact F Publishing Year\"].astype(float)"
   ]
  },
  {
   "cell_type": "code",
   "execution_count": 5,
   "metadata": {},
   "outputs": [
    {
     "data": {
      "application/vnd.jupyter.widget-view+json": {
       "model_id": "2f26e330f7234e40b6c553b161e25bf2",
       "version_major": 2,
       "version_minor": 0
      },
      "text/plain": [
       "  0%|          | 0/4 [00:00<?, ?it/s]"
      ]
     },
     "metadata": {},
     "output_type": "display_data"
    }
   ],
   "source": [
    "import pingouin\n",
    "from pgmpy.estimators import PC\n",
    "c = PC(data_reg[keys].dropna())\n",
    "max_cond_vars = len(keys) - 2\n",
    "\n",
    "sig =0.05\n",
    "model = c.estimate(return_type = \"dag\", variant= \"parallel\", \n",
    "                   significance_level = sig, \n",
    "                   max_cond_vars = max_cond_vars, ci_test = \"pearsonr\")\n",
    "edges = model.edges()\n",
    "pcorr = data_reg.pcorr()\n",
    "weights = {}"
   ]
  },
  {
   "cell_type": "code",
   "execution_count": 6,
   "metadata": {},
   "outputs": [
    {
     "data": {
      "text/html": [
       "<div>\n",
       "<style scoped>\n",
       "    .dataframe tbody tr th:only-of-type {\n",
       "        vertical-align: middle;\n",
       "    }\n",
       "\n",
       "    .dataframe tbody tr th {\n",
       "        vertical-align: top;\n",
       "    }\n",
       "\n",
       "    .dataframe thead th {\n",
       "        text-align: right;\n",
       "    }\n",
       "</style>\n",
       "<table border=\"1\" class=\"dataframe\">\n",
       "  <thead>\n",
       "    <tr style=\"text-align: right;\">\n",
       "      <th></th>\n",
       "      <th>General Outcome</th>\n",
       "      <th>Impact F Publishing Year</th>\n",
       "      <th>Private</th>\n",
       "      <th>Public</th>\n",
       "      <th>International</th>\n",
       "      <th>University</th>\n",
       "    </tr>\n",
       "  </thead>\n",
       "  <tbody>\n",
       "    <tr>\n",
       "      <th>General Outcome</th>\n",
       "      <td>1.000000</td>\n",
       "      <td>0.100055</td>\n",
       "      <td>-0.076359</td>\n",
       "      <td>0.049558</td>\n",
       "      <td>-0.042889</td>\n",
       "      <td>0.055925</td>\n",
       "    </tr>\n",
       "    <tr>\n",
       "      <th>Impact F Publishing Year</th>\n",
       "      <td>0.100055</td>\n",
       "      <td>1.000000</td>\n",
       "      <td>0.117103</td>\n",
       "      <td>0.192857</td>\n",
       "      <td>0.141413</td>\n",
       "      <td>0.050401</td>\n",
       "    </tr>\n",
       "    <tr>\n",
       "      <th>Private</th>\n",
       "      <td>-0.076359</td>\n",
       "      <td>0.117103</td>\n",
       "      <td>1.000000</td>\n",
       "      <td>-0.138252</td>\n",
       "      <td>-0.090557</td>\n",
       "      <td>-0.166505</td>\n",
       "    </tr>\n",
       "    <tr>\n",
       "      <th>Public</th>\n",
       "      <td>0.049558</td>\n",
       "      <td>0.192857</td>\n",
       "      <td>-0.138252</td>\n",
       "      <td>1.000000</td>\n",
       "      <td>-0.142227</td>\n",
       "      <td>-0.027973</td>\n",
       "    </tr>\n",
       "    <tr>\n",
       "      <th>International</th>\n",
       "      <td>-0.042889</td>\n",
       "      <td>0.141413</td>\n",
       "      <td>-0.090557</td>\n",
       "      <td>-0.142227</td>\n",
       "      <td>1.000000</td>\n",
       "      <td>-0.066431</td>\n",
       "    </tr>\n",
       "    <tr>\n",
       "      <th>University</th>\n",
       "      <td>0.055925</td>\n",
       "      <td>0.050401</td>\n",
       "      <td>-0.166505</td>\n",
       "      <td>-0.027973</td>\n",
       "      <td>-0.066431</td>\n",
       "      <td>1.000000</td>\n",
       "    </tr>\n",
       "  </tbody>\n",
       "</table>\n",
       "</div>"
      ],
      "text/plain": [
       "                          General Outcome  Impact F Publishing Year   Private  \\\n",
       "General Outcome                  1.000000                  0.100055 -0.076359   \n",
       "Impact F Publishing Year         0.100055                  1.000000  0.117103   \n",
       "Private                         -0.076359                  0.117103  1.000000   \n",
       "Public                           0.049558                  0.192857 -0.138252   \n",
       "International                   -0.042889                  0.141413 -0.090557   \n",
       "University                       0.055925                  0.050401 -0.166505   \n",
       "\n",
       "                            Public  International  University  \n",
       "General Outcome           0.049558      -0.042889    0.055925  \n",
       "Impact F Publishing Year  0.192857       0.141413    0.050401  \n",
       "Private                  -0.138252      -0.090557   -0.166505  \n",
       "Public                    1.000000      -0.142227   -0.027973  \n",
       "International            -0.142227       1.000000   -0.066431  \n",
       "University               -0.027973      -0.066431    1.000000  "
      ]
     },
     "execution_count": 6,
     "metadata": {},
     "output_type": "execute_result"
    }
   ],
   "source": [
    "pcorr"
   ]
  },
  {
   "cell_type": "code",
   "execution_count": 7,
   "metadata": {
    "scrolled": true
   },
   "outputs": [],
   "source": [
    "undirected_graph = {key:[] for key in data_reg.keys()}\n",
    "for x in undirected_graph:\n",
    "    remaining_vars = [y for y in data_reg.keys() if y != x]\n",
    "    for y in remaining_vars:\n",
    "        undirected_graph[x].append(y)"
   ]
  },
  {
   "cell_type": "code",
   "execution_count": 8,
   "metadata": {},
   "outputs": [
    {
     "data": {
      "text/plain": [
       "OutEdgeView([('International', 'Impact F Publishing Year'), ('Public', 'Impact F Publishing Year'), ('Public', 'International'), ('General Outcome', 'Impact F Publishing Year'), ('University', 'Private')])"
      ]
     },
     "execution_count": 8,
     "metadata": {},
     "output_type": "execute_result"
    },
    {
     "data": {
      "image/png": "[encoded data removed]",
      "text/plain": [
       "<Figure size 1440x864 with 1 Axes>"
      ]
     },
     "metadata": {},
     "output_type": "display_data"
    }
   ],
   "source": [
    "import matplotlib.pyplot as plt\n",
    "from matplotlib.patches import ArrowStyle\n",
    "import networkx as nx\n",
    "def graph_DAG(edges, data_reg, title = \"\"):\n",
    "    pcorr = data_reg.pcorr()\n",
    "    graph = nx.DiGraph()\n",
    "    edge_labels = {}\n",
    "    for edge in edges:\n",
    "        edge_labels[edge] = str(round(pcorr[edge[0]].loc[edge[1]],2))\n",
    "        \n",
    "    graph.add_edges_from(edges)\n",
    "    color_map = [\"C0\" for g in graph]\n",
    "\n",
    "    fig, ax = plt.subplots(figsize = (20,12))\n",
    "    graph.nodes()\n",
    "    plt.tight_layout()\n",
    "    pos = nx.spring_layout(graph)#, k = 5/(len(sig_corr.keys())**.5))\n",
    "\n",
    "    plt.title(title, fontsize = 30)\n",
    "    nx.draw_networkx(graph, pos, node_color=color_map, node_size = 1200,\n",
    "                     with_labels=True,  arrows=True,\n",
    "                     font_color = \"black\",\n",
    "                     font_size = 26, alpha = 1,\n",
    "                     width = 1, edge_color = \"C1\",\n",
    "                     arrowstyle=ArrowStyle(\"Fancy, head_length=3, head_width=1.5, tail_width=.1\"), ax = ax)\n",
    "    nx.draw_networkx_edge_labels(graph,pos,\n",
    "                                 edge_labels=edge_labels,\n",
    "                                 font_color='green',\n",
    "                                 font_size=20)\n",
    "plt.close()\n",
    "graph_DAG(edges, data_reg)\n",
    "edges"
   ]
  },
  {
   "cell_type": "code",
   "execution_count": 9,
   "metadata": {},
   "outputs": [],
   "source": [
    "X_vars = [\"General Outcome\",\n",
    "      \"Public\",\n",
    "       \"International\"]\n",
    "y_var = [\"Impact F Publishing Year\"]"
   ]
  },
  {
   "cell_type": "code",
   "execution_count": 10,
   "metadata": {
    "scrolled": false
   },
   "outputs": [
    {
     "name": "stdout",
     "output_type": "stream",
     "text": [
      "                               OLS Regression Results                               \n",
      "====================================================================================\n",
      "Dep. Variable:     Impact F Publishing Year   R-squared:                       0.054\n",
      "Model:                                  OLS   Adj. R-squared:                  0.048\n",
      "Method:                       Least Squares   F-statistic:                     9.007\n",
      "Date:                      Fri, 05 Nov 2021   Prob (F-statistic):           8.24e-06\n",
      "Time:                              10:04:09   Log-Likelihood:                -912.67\n",
      "No. Observations:                       476   AIC:                             1833.\n",
      "Df Residuals:                           472   BIC:                             1850.\n",
      "Df Model:                                 3                                         \n",
      "Covariance Type:                  nonrobust                                         \n",
      "===================================================================================\n",
      "                      coef    std err          t      P>|t|      [0.025      0.975]\n",
      "-----------------------------------------------------------------------------------\n",
      "General Outcome     0.3592      0.174      2.068      0.039       0.018       0.701\n",
      "Public              0.6286      0.158      3.972      0.000       0.318       0.940\n",
      "International       1.4558      0.508      2.867      0.004       0.458       2.453\n",
      "constant            2.0547      0.175     11.727      0.000       1.710       2.399\n",
      "==============================================================================\n",
      "Omnibus:                       65.085   Durbin-Watson:                   1.857\n",
      "Prob(Omnibus):                  0.000   Jarque-Bera (JB):              110.022\n",
      "Skew:                           0.837   Prob(JB):                     1.29e-24\n",
      "Kurtosis:                       4.656   Cond. No.                         9.64\n",
      "==============================================================================\n",
      "\n",
      "Notes:\n",
      "[1] Standard Errors assume that the covariance matrix of the errors is correctly specified.\n"
     ]
    },
    {
     "name": "stderr",
     "output_type": "stream",
     "text": [
      "<ipython-input-10-5fbb7ac6eb7e>:7: SettingWithCopyWarning: \n",
      "A value is trying to be set on a copy of a slice from a DataFrame.\n",
      "Try using .loc[row_indexer,col_indexer] = value instead\n",
      "\n",
      "See the caveats in the documentation: https://pandas.pydata.org/pandas-docs/stable/user_guide/indexing.html#returning-a-view-versus-a-copy\n",
      "  X[\"constant\"] = 1\n"
     ]
    }
   ],
   "source": [
    "import statsmodels.api as sm\n",
    "import numpy\n",
    "residuals = {}\n",
    "partial_corr = {}\n",
    "reg_df = data_reg[keys].dropna()[:-1]\n",
    "X= reg_df[X_vars]\n",
    "X[\"constant\"] = 1\n",
    "y = reg_df[y_var]\n",
    "model = sm.OLS(y,X)\n",
    "results = model.fit()\n",
    "print(results.summary())\n",
    "predict = results.predict()\n",
    "reg_df[\"predict\"] = predict\n",
    "#residuals[y_var] = results.resid"
   ]
  },
  {
   "cell_type": "code",
   "execution_count": 11,
   "metadata": {},
   "outputs": [],
   "source": [
    "data_dict = {}  \n",
    "data_dict[\"Data\"] = data_reg "
   ]
  },
  {
   "cell_type": "code",
   "execution_count": 12,
   "metadata": {},
   "outputs": [],
   "source": [
    "from linearmodels import PanelOLS\n",
    "from linearmodels import RandomEffects"
   ]
  },
  {
   "cell_type": "code",
   "execution_count": 13,
   "metadata": {},
   "outputs": [],
   "source": [
    "exog_vars = np.nan_to_num(X_vars)\n",
    "dep_var = np.nan_to_num(y_var)"
   ]
  },
  {
   "cell_type": "code",
   "execution_count": 14,
   "metadata": {},
   "outputs": [
    {
     "name": "stdout",
     "output_type": "stream",
     "text": [
      "                           RandomEffects Estimation Summary                           \n",
      "======================================================================================\n",
      "Dep. Variable:     Impact F Publishing Year   R-squared:                        0.1760\n",
      "Estimator:                    RandomEffects   R-squared (Between):              0.1588\n",
      "No. Observations:                       477   R-squared (Within):               0.0583\n",
      "Date:                      Fri, Nov 05 2021   R-squared (Overall):              0.0514\n",
      "Time:                              10:04:09   Log-likelihood                   -895.69\n",
      "Cov. Estimator:                  Unadjusted                                           \n",
      "                                              F-statistic:                      33.678\n",
      "Entities:                                53   P-value                           0.0000\n",
      "Avg Obs:                             9.0000   Distribution:                   F(3,473)\n",
      "Min Obs:                             1.0000                                           \n",
      "Max Obs:                             94.000   F-statistic (robust):             10.796\n",
      "                                              P-value                           0.0000\n",
      "Time periods:                            24   Distribution:                   F(3,473)\n",
      "Avg Obs:                             19.875                                           \n",
      "Min Obs:                             1.0000                                           \n",
      "Max Obs:                             67.000                                           \n",
      "                                                                                      \n",
      "                                Parameter Estimates                                \n",
      "===================================================================================\n",
      "                 Parameter  Std. Err.     T-stat    P-value    Lower CI    Upper CI\n",
      "-----------------------------------------------------------------------------------\n",
      "const               1.9906     0.2046     9.7283     0.0000      1.5885      2.3926\n",
      "General Outcome     0.4623     0.1770     2.6120     0.0093      0.1145      0.8101\n",
      "Public              0.7051     0.1648     4.2789     0.0000      0.3813      1.0288\n",
      "International       1.4914     0.5086     2.9324     0.0035      0.4920      2.4908\n",
      "===================================================================================\n"
     ]
    },
    {
     "name": "stderr",
     "output_type": "stream",
     "text": [
      "/Users/kodjobarnor/opt/anaconda3/lib/python3.8/site-packages/linearmodels/shared/exceptions.py:35: MissingValueWarning: \n",
      "Inputs contain missing values. Dropping rows with missing observations.\n",
      "  warnings.warn(missing_value_warning_msg, MissingValueWarning)\n"
     ]
    }
   ],
   "source": [
    "exog = sm.add_constant(data[exog_vars])\n",
    "mod = RandomEffects(data[dep_var], exog)\n",
    "re_res = mod.fit()\n",
    "print(re_res)"
   ]
  },
  {
   "cell_type": "code",
   "execution_count": 15,
   "metadata": {
    "scrolled": false
   },
   "outputs": [
    {
     "name": "stderr",
     "output_type": "stream",
     "text": [
      "<ipython-input-15-e0b6cf2527db>:18: SettingWithCopyWarning: \n",
      "A value is trying to be set on a copy of a slice from a DataFrame.\n",
      "Try using .loc[row_indexer,col_indexer] = value instead\n",
      "\n",
      "See the caveats in the documentation: https://pandas.pydata.org/pandas-docs/stable/user_guide/indexing.html#returning-a-view-versus-a-copy\n",
      "  X[\"Constant\"] = 1\n"
     ]
    },
    {
     "name": "stdout",
     "output_type": "stream",
     "text": [
      "Data\n",
      "Entity = True\n",
      "Time = True\n",
      "Data\n",
      "                             PanelOLS Estimation Summary                              \n",
      "======================================================================================\n",
      "Dep. Variable:     Impact F Publishing Year   R-squared:                        0.0415\n",
      "Estimator:                         PanelOLS   R-squared (Between):              0.1133\n",
      "No. Observations:                       477   R-squared (Within):               0.0570\n",
      "Date:                      Fri, Nov 05 2021   R-squared (Overall):              0.0513\n",
      "Time:                              10:04:09   Log-likelihood                   -822.86\n",
      "Cov. Estimator:                   Clustered                                           \n",
      "                                              F-statistic:                      5.7396\n",
      "Entities:                                54   P-value                           0.0007\n",
      "Avg Obs:                             8.8333   Distribution:                   F(3,398)\n",
      "Min Obs:                             0.0000                                           \n",
      "Max Obs:                             94.000   F-statistic (robust):             11.306\n",
      "                                              P-value                           0.0000\n",
      "Time periods:                            31   Distribution:                   F(3,398)\n",
      "Avg Obs:                             15.387                                           \n",
      "Min Obs:                             0.0000                                           \n",
      "Max Obs:                             67.000                                           \n",
      "                                                                                      \n",
      "                                Parameter Estimates                                \n",
      "===================================================================================\n",
      "                 Parameter  Std. Err.     T-stat    P-value    Lower CI    Upper CI\n",
      "-----------------------------------------------------------------------------------\n",
      "General Outcome     0.4638     0.2351     1.9730     0.0492      0.0017      0.9259\n",
      "Public              0.4739     0.1778     2.6651     0.0080      0.1243      0.8235\n",
      "International       1.2149     0.5581     2.1768     0.0301      0.1177      2.3121\n",
      "Constant            2.0791     0.1922     10.815     0.0000      1.7012      2.4571\n",
      "===================================================================================\n",
      "\n",
      "F-test for Poolability: 2.4737\n",
      "P-value: 0.0000\n",
      "Distribution: F(75,398)\n",
      "\n",
      "Included effects: Entity, Time\n",
      "Data\n",
      "Entity = True\n",
      "Time = False\n",
      "Data\n",
      "                             PanelOLS Estimation Summary                              \n",
      "======================================================================================\n",
      "Dep. Variable:     Impact F Publishing Year   R-squared:                        0.0603\n",
      "Estimator:                         PanelOLS   R-squared (Between):              0.1094\n",
      "No. Observations:                       477   R-squared (Within):               0.0603\n",
      "Date:                      Fri, Nov 05 2021   R-squared (Overall):              0.0494\n",
      "Time:                              10:04:09   Log-likelihood                   -865.87\n",
      "Cov. Estimator:                   Clustered                                           \n",
      "                                              F-statistic:                      9.0071\n",
      "Entities:                                54   P-value                           0.0000\n",
      "Avg Obs:                             8.8333   Distribution:                   F(3,421)\n",
      "Min Obs:                             0.0000                                           \n",
      "Max Obs:                             94.000   F-statistic (robust):             15.536\n",
      "                                              P-value                           0.0000\n",
      "Time periods:                            31   Distribution:                   F(3,421)\n",
      "Avg Obs:                             15.387                                           \n",
      "Min Obs:                             0.0000                                           \n",
      "Max Obs:                             67.000                                           \n",
      "                                                                                      \n",
      "                                Parameter Estimates                                \n",
      "===================================================================================\n",
      "                 Parameter  Std. Err.     T-stat    P-value    Lower CI    Upper CI\n",
      "-----------------------------------------------------------------------------------\n",
      "General Outcome     0.6076     0.2074     2.9296     0.0036      0.1999      1.0152\n",
      "Public              0.6326     0.2191     2.8870     0.0041      0.2019      1.0633\n",
      "International       1.2394     0.6245     1.9847     0.0478      0.0119      2.4669\n",
      "Constant            1.8720     0.1545     12.120     0.0000      1.5684      2.1756\n",
      "===================================================================================\n",
      "\n",
      "F-test for Poolability: 1.8154\n",
      "P-value: 0.0008\n",
      "Distribution: F(52,421)\n",
      "\n",
      "Included effects: Entity\n",
      "Data\n",
      "Entity = False\n",
      "Time = True\n"
     ]
    },
    {
     "name": "stderr",
     "output_type": "stream",
     "text": [
      "<ipython-input-15-e0b6cf2527db>:18: SettingWithCopyWarning: \n",
      "A value is trying to be set on a copy of a slice from a DataFrame.\n",
      "Try using .loc[row_indexer,col_indexer] = value instead\n",
      "\n",
      "See the caveats in the documentation: https://pandas.pydata.org/pandas-docs/stable/user_guide/indexing.html#returning-a-view-versus-a-copy\n",
      "  X[\"Constant\"] = 1\n",
      "<ipython-input-15-e0b6cf2527db>:18: SettingWithCopyWarning: \n",
      "A value is trying to be set on a copy of a slice from a DataFrame.\n",
      "Try using .loc[row_indexer,col_indexer] = value instead\n",
      "\n",
      "See the caveats in the documentation: https://pandas.pydata.org/pandas-docs/stable/user_guide/indexing.html#returning-a-view-versus-a-copy\n",
      "  X[\"Constant\"] = 1\n"
     ]
    },
    {
     "name": "stdout",
     "output_type": "stream",
     "text": [
      "Data\n",
      "                             PanelOLS Estimation Summary                              \n",
      "======================================================================================\n",
      "Dep. Variable:     Impact F Publishing Year   R-squared:                        0.0453\n",
      "Estimator:                         PanelOLS   R-squared (Between):              0.1638\n",
      "No. Observations:                       477   R-squared (Within):               0.0498\n",
      "Date:                      Fri, Nov 05 2021   R-squared (Overall):              0.0522\n",
      "Time:                              10:04:09   Log-likelihood                   -870.39\n",
      "Cov. Estimator:                   Clustered                                           \n",
      "                                              F-statistic:                      7.1142\n",
      "Entities:                                54   P-value                           0.0001\n",
      "Avg Obs:                             8.8333   Distribution:                   F(3,450)\n",
      "Min Obs:                             0.0000                                           \n",
      "Max Obs:                             94.000   F-statistic (robust):             11.593\n",
      "                                              P-value                           0.0000\n",
      "Time periods:                            31   Distribution:                   F(3,450)\n",
      "Avg Obs:                             15.387                                           \n",
      "Min Obs:                             0.0000                                           \n",
      "Max Obs:                             67.000                                           \n",
      "                                                                                      \n",
      "                                Parameter Estimates                                \n",
      "===================================================================================\n",
      "                 Parameter  Std. Err.     T-stat    P-value    Lower CI    Upper CI\n",
      "-----------------------------------------------------------------------------------\n",
      "General Outcome     0.2261     0.1893     1.1943     0.2330     -0.1459      0.5981\n",
      "Public              0.5433     0.1520     3.5745     0.0004      0.2446      0.8419\n",
      "International       1.4129     0.4672     3.0241     0.0026      0.4947      2.3310\n",
      "Constant            2.2074     0.2139     10.322     0.0000      1.7871      2.6276\n",
      "===================================================================================\n",
      "\n",
      "F-test for Poolability: 3.9370\n",
      "P-value: 0.0000\n",
      "Distribution: F(23,450)\n",
      "\n",
      "Included effects: Time\n",
      "Data\n",
      "Entity = False\n",
      "Time = False\n",
      "Data\n",
      "                             PanelOLS Estimation Summary                              \n",
      "======================================================================================\n",
      "Dep. Variable:     Impact F Publishing Year   R-squared:                        0.0540\n",
      "Estimator:                         PanelOLS   R-squared (Between):              0.1577\n",
      "No. Observations:                       477   R-squared (Within):               0.0560\n",
      "Date:                      Fri, Nov 05 2021   R-squared (Overall):              0.0540\n",
      "Time:                              10:04:09   Log-likelihood                   -914.12\n",
      "Cov. Estimator:                   Clustered                                           \n",
      "                                              F-statistic:                      9.0060\n",
      "Entities:                                54   P-value                           0.0000\n",
      "Avg Obs:                             8.8333   Distribution:                   F(3,473)\n",
      "Min Obs:                             0.0000                                           \n",
      "Max Obs:                             94.000   F-statistic (robust):             16.691\n",
      "                                              P-value                           0.0000\n",
      "Time periods:                            31   Distribution:                   F(3,473)\n",
      "Avg Obs:                             15.387                                           \n",
      "Min Obs:                             0.0000                                           \n",
      "Max Obs:                             67.000                                           \n",
      "                                                                                      \n",
      "                                Parameter Estimates                                \n",
      "===================================================================================\n",
      "                 Parameter  Std. Err.     T-stat    P-value    Lower CI    Upper CI\n",
      "-----------------------------------------------------------------------------------\n",
      "General Outcome     0.3582     0.1743     2.0553     0.0404      0.0157      0.7007\n",
      "Public              0.6273     0.1810     3.4651     0.0006      0.2716      0.9830\n",
      "International       1.4561     0.5324     2.7349     0.0065      0.4099      2.5022\n",
      "Constant            2.0555     0.1979     10.387     0.0000      1.6666      2.4443\n",
      "===================================================================================\n",
      "\n",
      "\n"
     ]
    },
    {
     "name": "stderr",
     "output_type": "stream",
     "text": [
      "<ipython-input-15-e0b6cf2527db>:18: SettingWithCopyWarning: \n",
      "A value is trying to be set on a copy of a slice from a DataFrame.\n",
      "Try using .loc[row_indexer,col_indexer] = value instead\n",
      "\n",
      "See the caveats in the documentation: https://pandas.pydata.org/pandas-docs/stable/user_guide/indexing.html#returning-a-view-versus-a-copy\n",
      "  X[\"Constant\"] = 1\n"
     ]
    }
   ],
   "source": [
    "from linearmodels import PanelOLS\n",
    "X_vars = [\"General Outcome\",\n",
    "      \"Public\",\n",
    "       \"International\"]\n",
    "y_var = [\"Impact F Publishing Year\"]\n",
    "for key, data in data_dict.items():\n",
    "    for entity in [True, False]:\n",
    "        for time in [True, False]:\n",
    "#             X_vars = [x for x in keys if x != y_var]\n",
    "            X= reg_df[X_vars]\n",
    "            y = reg_df[y_var]\n",
    "            print(key)\n",
    "            print(\"Entity =\", entity)\n",
    "            print(\"Time =\", time)\n",
    "            reg_data = data_dict[key].dropna()\n",
    "            Y = reg_data[y_var]\n",
    "            X = reg_data[X_vars]\n",
    "            X[\"Constant\"] = 1\n",
    "            # call panel_regression method        \n",
    "            model = PanelOLS(Y,X, entity_effects=entity, time_effects=time)\n",
    "            results = model.fit(cov_type='clustered', cluster_entity=True)\n",
    "            print(key, results, sep =\"\\n\") \n",
    "            #reg_data[\"Predictor\"] = results.predict()\n",
    "            #reg_data[\"Residuals\"] = reg_data[y_name[0]].sub(reg_data[\"Predictor\"])"
   ]
  }
 ],
 "metadata": {
  "kernelspec": {
   "display_name": "Python 3",
   "language": "python",
   "name": "python3"
  },
  "language_info": {
   "codemirror_mode": {
    "name": "ipython",
    "version": 3
   },
   "file_extension": ".py",
   "mimetype": "text/x-python",
   "name": "python",
   "nbconvert_exporter": "python",
   "pygments_lexer": "ipython3",
   "version": "3.8.8"
  }
 },
 "nbformat": 4,
 "nbformat_minor": 4
}
